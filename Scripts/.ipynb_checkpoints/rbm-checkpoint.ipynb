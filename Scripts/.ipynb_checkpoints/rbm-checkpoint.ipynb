{
 "cells": [
  {
   "cell_type": "code",
   "execution_count": 87,
   "metadata": {},
   "outputs": [],
   "source": [
    "import numpy as np\n",
    "import projectLib as lib\n",
    "\n",
    "# set highest rating\n",
    "K = 5\n",
    "F = 3\n",
    "eps=0.1\n",
    "\n",
    "def softmax(x):\n",
    "    # Numerically stable softmax function\n",
    "    e_x = np.exp(x - np.max(x))\n",
    "    return e_x / e_x.sum()\n",
    "\n",
    "def ratingsPerMovie(training):\n",
    "    movies = [x[0] for x in training]\n",
    "    u_movies = np.unique(movies).tolist()\n",
    "    return np.array([[i, movie, len([x for x in training if x[0] == movie])] for i, movie in enumerate(u_movies)])\n",
    "\n",
    "def getV(ratingsForUser):\n",
    "    # ratingsForUser is obtained from the ratings for user library\n",
    "    # you should return a binary matrix ret of size m x K, where m is the number of movies\n",
    "    #   that the user has seen. ret[i][k] = 1 if the user\n",
    "    #   has rated movie ratingsForUser[i, 0] with k stars\n",
    "    #   otherwise it is 0\n",
    "    ret = np.zeros((len(ratingsForUser), K))\n",
    "    for i in range(len(ratingsForUser)):\n",
    "        ret[i, ratingsForUser[i, 1]-1] = 1.0\n",
    "    return ret\n",
    "\n",
    "def getInitialWeights(m, F, K):\n",
    "    # m is the number of visible units\n",
    "    # F is the number of hidden units\n",
    "    # K is the highest rating (fixed to 5 here)\n",
    "    return np.random.normal(0, 0.1, (m, F, K))"
   ]
  },
  {
   "cell_type": "code",
   "execution_count": 43,
   "metadata": {},
   "outputs": [],
   "source": [
    "training = lib.getTrainingData()\n",
    "ratingsForUser1 = lib.getRatingsForUser(1, training)"
   ]
  },
  {
   "cell_type": "code",
   "execution_count": 71,
   "metadata": {
    "scrolled": true
   },
   "outputs": [],
   "source": [
    "# ratingsPerMovie(training)\n",
    "v = getV(ratingsForUser1)\n",
    "# v.shape\n",
    "w = getInitialWeights(v.shape[0],F,5)"
   ]
  },
  {
   "cell_type": "code",
   "execution_count": 63,
   "metadata": {
    "scrolled": true
   },
   "outputs": [],
   "source": [
    "trStats = lib.getUsefulStats(training)\n",
    "W = getInitialWeights(trStats[\"n_movies\"], F, K)"
   ]
  },
  {
   "cell_type": "code",
   "execution_count": 70,
   "metadata": {
    "scrolled": true
   },
   "outputs": [
    {
     "data": {
      "text/plain": [
       "array([[[-6.62179276e-02, -1.06077656e-01,  1.08694801e-01,\n",
       "          1.02623931e-01,  6.76727068e-02],\n",
       "        [-5.82069365e-02, -1.80134636e-01,  1.32092768e-01,\n",
       "          3.38644212e-02, -9.17120948e-02],\n",
       "        [ 2.79439919e-03,  1.09739335e-01,  3.87671423e-02,\n",
       "         -1.75726251e-01,  1.57377998e-01]],\n",
       "\n",
       "       [[ 2.00014631e-02, -2.63346220e-02, -1.16342054e-01,\n",
       "          1.97768759e-02, -4.80679547e-02],\n",
       "        [ 1.67342882e-02, -7.26718009e-02,  1.41420542e-01,\n",
       "          6.32005262e-02,  7.42230677e-03],\n",
       "        [ 1.74534797e-01, -1.76436747e-02,  1.21238875e-02,\n",
       "         -2.25955199e-02, -1.13946065e-01]],\n",
       "\n",
       "       [[-4.02393325e-02,  2.68471338e-01, -8.00705800e-03,\n",
       "         -1.27022358e-01, -9.73222533e-03],\n",
       "        [ 1.34836447e-01, -1.10560305e-02,  3.09362792e-02,\n",
       "          6.44903320e-03,  6.35008250e-02],\n",
       "        [-9.85657784e-04, -5.98350259e-02,  5.05700462e-02,\n",
       "          5.52846046e-03, -5.09814088e-02]],\n",
       "\n",
       "       [[ 1.99825442e-02,  1.40386722e-01,  2.22157400e-02,\n",
       "          1.35075846e-02, -1.07392761e-01],\n",
       "        [-1.82333146e-01,  1.02932018e-01,  1.80903131e-01,\n",
       "          1.27619683e-01,  1.35496219e-01],\n",
       "        [-7.42976570e-02,  1.76763858e-02,  9.61683999e-02,\n",
       "         -4.80412655e-02,  1.43696413e-01]],\n",
       "\n",
       "       [[ 3.80210900e-02, -1.89902486e-04, -2.60778829e-02,\n",
       "          3.60753678e-02, -1.88821535e-01],\n",
       "        [-1.37002181e-02, -2.00365048e-01, -8.75892414e-02,\n",
       "          1.19900862e-01, -1.38091755e-02],\n",
       "        [ 6.57350475e-02,  3.48009857e-03, -3.11636646e-02,\n",
       "          1.58190414e-02,  1.12267514e-01]],\n",
       "\n",
       "       [[ 1.30769346e-01, -1.19200626e-02, -2.96751228e-02,\n",
       "          1.69043906e-02, -8.49515148e-02],\n",
       "        [ 1.53477082e-01,  2.01204990e-01, -3.10834490e-02,\n",
       "         -1.42180965e-01, -1.59188936e-01],\n",
       "        [-9.52003014e-02, -1.72302688e-01,  1.26997721e-01,\n",
       "         -1.15223908e-01, -1.28430626e-01]],\n",
       "\n",
       "       [[ 5.32687691e-02,  7.96507621e-02,  9.58178563e-02,\n",
       "          1.02762367e-01,  7.86907707e-02],\n",
       "        [ 1.12229627e-01,  7.15338416e-02,  5.32487430e-02,\n",
       "         -1.32095083e-01, -4.02085493e-02],\n",
       "        [ 5.33393296e-02,  6.49147254e-03,  9.00396946e-03,\n",
       "         -8.60701381e-04,  6.67230231e-02]],\n",
       "\n",
       "       [[-1.02715087e-01,  1.41200653e-01,  2.93876827e-02,\n",
       "          2.33701239e-02,  6.92439145e-03],\n",
       "        [ 7.07569200e-02, -5.87046804e-02, -6.63497188e-02,\n",
       "          1.14357761e-01,  2.30389975e-01],\n",
       "        [-5.72688503e-03,  9.99172785e-02,  7.00054245e-03,\n",
       "         -7.79574154e-02, -8.59170818e-04]]])"
      ]
     },
     "execution_count": 70,
     "metadata": {},
     "output_type": "execute_result"
    }
   ],
   "source": [
    "W[ratingsForUser1[:, 0], :, :]"
   ]
  },
  {
   "cell_type": "code",
   "execution_count": 68,
   "metadata": {},
   "outputs": [
    {
     "data": {
      "text/plain": [
       "array([15, 48, 19, 29, 96, 28, 23,  2])"
      ]
     },
     "execution_count": 68,
     "metadata": {},
     "output_type": "execute_result"
    }
   ],
   "source": [
    "ratingsForUser1[:, 0]"
   ]
  },
  {
   "cell_type": "code",
   "execution_count": 177,
   "metadata": {},
   "outputs": [],
   "source": [
    "def sig(x):\n",
    "    ### TO IMPLEMENT ###\n",
    "    # x is a real vector of size n\n",
    "    # ret should be a vector of size n where ret_i = sigmoid(x_i)\n",
    "    return 1/(1+np.exp(-x))\n",
    "\n",
    "def visibleToHiddenVec(v, w):\n",
    "    ### TO IMPLEMENT ###\n",
    "    # v is a matrix of size m x 5. Each row is a binary vector representing a rating\n",
    "    #    OR a probability distribution over the rating\n",
    "    # w is a list of matrices of size m x F x 5\n",
    "    # ret should be a vector of size F\n",
    "    m,f,K=w.shape\n",
    "    output=list()\n",
    "    for i in range(f):\n",
    "        summ=0\n",
    "        for k in range(K):\n",
    "            for j in range(m):\n",
    "                summ+=v[j,k]*w[j,i,k]\n",
    "        output.append(summ)\n",
    "    return sig(np.array(output))\n",
    "    \n",
    "\n",
    "def hiddenToVisible(h, w):\n",
    "    ### TO IMPLEMENT ###\n",
    "    # h is a binary vector of size F\n",
    "    # w is an array of size m x F x 5\n",
    "    # ret should be a matrix of size m x 5, where m\n",
    "    #   is the number of movies the user has seen.\n",
    "    #   Remember that we do not reconstruct movies that the user\n",
    "    #   has not rated! (where reconstructing means getting a distribution\n",
    "    #   over possible ratings).\n",
    "    #   We only do so when we predict the rating a user would have given to a movie.\n",
    "    output=w[:,0,:]*h[0]\n",
    "    m,f,k=w.shape\n",
    "    for i in range(1,f):\n",
    "        output+=w[:,i,:]*h[i]\n",
    "    return sig(output)\n",
    "\n",
    "def probProduct(v, p):\n",
    "    # v is a matrix of size m x 5\n",
    "    # p is a vector of size F, activation of the hidden units\n",
    "    # returns the gradient for visible input v and hidden activations p\n",
    "    ret = np.zeros((v.shape[0], p.size, v.shape[1]))\n",
    "    for i in range(v.shape[0]):\n",
    "        for j in range(p.size):\n",
    "            for k in range(v.shape[1]):\n",
    "                ret[i, j, k] = v[i, k] * p[j]\n",
    "    return ret\n",
    "\n",
    "def sample(p):\n",
    "    # p is a vector of real numbers between 0 and 1\n",
    "    # ret is a vector of same size as p, where ret_i = Ber(p_i)\n",
    "    # In other word we sample from a Bernouilli distribution with\n",
    "    # parameter p_i to obtain ret_i\n",
    "    samples = np.random.random(p.size)\n",
    "    return np.array(samples <= p, dtype=int)\n",
    "\n",
    "def getPredictedDistribution(v, w, wq):\n",
    "    ### TO IMPLEMENT ###\n",
    "    # This function returns a distribution over the ratings for movie q, if user data is v\n",
    "    # v is the dataset of the user we are predicting the movie for\n",
    "    #   It is a m x 5 matrix, where m is the number of movies in the\n",
    "    #   dataset of this user.\n",
    "    # w is the weights array for the current user, of size m x F x 5\n",
    "    # wq is the weight matrix of size F x 5 for movie q\n",
    "    #   If W is the whole weights array, then wq = W[q, :, :]\n",
    "    # You will need to perform the same steps done in the learning/unlearning:\n",
    "    #   - Propagate the user input to the hidden units\n",
    "    #   - Sample the state of the hidden units\n",
    "    #   - Backpropagate these hidden states to obtain\n",
    "    #       the distribution over the movie whose associated weights are wq\n",
    "    # ret is a vector of size 5\n",
    "    m,f,K=w.shape\n",
    "    p_learn = visibleToHiddenVec(v,w)\n",
    "    PG = probProduct(v, p_learn)\n",
    "    hidden_activations = sample(p_learn)\n",
    "#     print(hidden_activations)\n",
    "    v_negative = hiddenToVisible(hidden_activations, w)\n",
    "#     p_unlearn = visibleToHiddenVec(v_negative, w)\n",
    "#     NG = probProduct(v_negative, p_unlearn)\n",
    "# #     print(eps*(PG-NG))\n",
    "# #     print (w.shape)\n",
    "#     w += eps*(PG-NG)\n",
    "    return v_negative\n",
    "\n",
    "def predictRatingMax(ratingDistribution):\n",
    "    ### TO IMPLEMENT ###\n",
    "    # ratingDistribution is a probability distribution over possible ratings\n",
    "    #   It is obtained from the getPredictedDistribution function\n",
    "    # This function is one of three you are to implement\n",
    "    # that returns a rating from the distribution\n",
    "    # We decide here that the predicted rating will be the one with the highest probability\n",
    "    result = np.where(ratingDistribution == np.amax(ratingDistribution))[0].item()\n",
    "    return result+1\n",
    "\n",
    "def predictRatingMean(ratingDistribution):\n",
    "    ### TO IMPLEMENT ###\n",
    "    # ratingDistribution is a probability distribution over possible ratings\n",
    "    #   It is obtained from the getPredictedDistribution function\n",
    "    # This function is one of three you are to implement\n",
    "    # that returns a rating from the distribution\n",
    "    # We decide here that the predicted rating will be the expectation over ratingDistribution\n",
    "    normalized = ratingDistribution/sum(ratingDistribution)\n",
    "    result = 0 \n",
    "    for k in range(ratingDistribution.shape[0]):\n",
    "        result += normalized[k]*(k+1)\n",
    "    return result\n",
    "\n",
    "def predictRatingExp(ratingDistribution):\n",
    "    ### TO IMPLEMENT ###\n",
    "    # ratingDistribution is a probability distribution over possible ratings\n",
    "    #   It is obtained from the getPredictedDistribution function\n",
    "    # This function is one of three you are to implement\n",
    "    # that returns a rating from the distribution\n",
    "    # We decide here that the predicted rating will be the expectation over\n",
    "    # the softmax applied to ratingDistribution\n",
    "    softmax = np.exp(ratingDistribution)/sum(np.exp(ratingDistribution))\n",
    "    result = 0 \n",
    "    for k in range(ratingDistribution.shape[0]):\n",
    "        result += softmax[k]*(k+1)\n",
    "    return result\n",
    "\n",
    "def predictMovieForUser(q, user, W, training, predictType=\"exp\"):\n",
    "    # movie is movie idx\n",
    "    # user is user ID\n",
    "    # type can be \"max\" or \"exp\"\n",
    "    ratingsForUser = lib.getRatingsForUser(user, training)\n",
    "    v = getV(ratingsForUser)\n",
    "    ratingDistribution = getPredictedDistribution(v, W[ratingsForUser[:, 0], :, :], W[q, :, :])\n",
    "    if predictType == \"max\":\n",
    "        return predictRatingMax(ratingDistribution)\n",
    "    elif predictType == \"mean\":\n",
    "        return predictRatingMean(ratingDistribution)\n",
    "    else:\n",
    "        return predictRatingExp(ratingDistribution)\n",
    "\n",
    "def predict(movies, users, W, training, predictType=\"exp\"):\n",
    "    # given a list of movies and users, predict the rating for each (movie, user) pair\n",
    "    # used to compute RMSE\n",
    "    return [predictMovieForUser(movie, user, W, training, predictType=predictType) for (movie, user) in zip(movies, users)]\n",
    "\n",
    "def predictForUser(user, W, training, predictType=\"exp\"):\n",
    "    ### TO IMPLEMENT\n",
    "    # given a user ID, predicts all movie ratings for the user\n",
    "    return None\n"
   ]
  },
  {
   "cell_type": "code",
   "execution_count": 179,
   "metadata": {
    "scrolled": true
   },
   "outputs": [
    {
     "name": "stdout",
     "output_type": "stream",
     "text": [
      "[0.53829413 0.55013223 0.49222976 0.46451452 0.4602866 ]\n"
     ]
    },
    {
     "data": {
      "text/plain": [
       "2.9516426966913345"
      ]
     },
     "execution_count": 179,
     "metadata": {},
     "output_type": "execute_result"
    }
   ],
   "source": [
    "q = np.random.choice(ratingsForUser1[:, 0])\n",
    "index = np.where(ratingsForUser1[:, 0]==q)[0].item()\n",
    "ratingdist1 = getPredictedDistribution(v, W[ratingsForUser1[:, 0], :, :], W[q, :, :])[index]\n",
    "print(ratingdist1)\n",
    "predictRatingExp(ratingdist1)\n",
    "# Problem remains - we need the index to know which movie to take the values from in the \n",
    "# getPredictedDistribution function. Need to check with TA and clarify that part."
   ]
  },
  {
   "cell_type": "code",
   "execution_count": null,
   "metadata": {},
   "outputs": [],
   "source": []
  }
 ],
 "metadata": {
  "kernelspec": {
   "display_name": "Python 3",
   "language": "python",
   "name": "python3"
  },
  "language_info": {
   "codemirror_mode": {
    "name": "ipython",
    "version": 3
   },
   "file_extension": ".py",
   "mimetype": "text/x-python",
   "name": "python",
   "nbconvert_exporter": "python",
   "pygments_lexer": "ipython3",
   "version": "3.6.5"
  }
 },
 "nbformat": 4,
 "nbformat_minor": 2
}
