{
 "cells": [
  {
   "cell_type": "code",
   "execution_count": 1,
   "metadata": {},
   "outputs": [],
   "source": [
    "import numpy as np\n",
    "import projectLib as lib\n",
    "import matplotlib.pyplot as plt\n",
    "\n",
    "# set highest rating\n",
    "K = 5\n",
    "F = 3\n",
    "eps=0.1\n",
    "\n",
    "def softmax(x):\n",
    "    # Numerically stable softmax function\n",
    "    e_x = np.exp(x - np.max(x))\n",
    "    return e_x / e_x.sum()\n",
    "\n",
    "def ratingsPerMovie(training):\n",
    "    movies = [x[0] for x in training]\n",
    "    u_movies = np.unique(movies).tolist()\n",
    "    return np.array([[i, movie, len([x for x in training if x[0] == movie])] for i, movie in enumerate(u_movies)])\n",
    "\n",
    "def getV(ratingsForUser):\n",
    "    # ratingsForUser is obtained from the ratings for user library\n",
    "    # you should return a binary matrix ret of size m x K, where m is the number of movies\n",
    "    #   that the user has seen. ret[i][k] = 1 if the user\n",
    "    #   has rated movie ratingsForUser[i, 0] with k stars\n",
    "    #   otherwise it is 0\n",
    "    ret = np.zeros((len(ratingsForUser), K))\n",
    "    for i in range(len(ratingsForUser)):\n",
    "        ret[i, ratingsForUser[i, 1]-1] = 1.0\n",
    "    return ret\n",
    "\n",
    "def getInitialWeights(m, F, K):\n",
    "    # m is the number of visible units\n",
    "    # F is the number of hidden units\n",
    "    # K is the highest rating (fixed to 5 here)\n",
    "    return np.random.normal(0, 0.1, (m, F, K))"
   ]
  },
  {
   "cell_type": "code",
   "execution_count": 2,
   "metadata": {},
   "outputs": [],
   "source": [
    "training = lib.getTrainingData()\n",
    "ratingsForUser1 = lib.getRatingsForUser(1, training)"
   ]
  },
  {
   "cell_type": "code",
   "execution_count": 3,
   "metadata": {
    "scrolled": true
   },
   "outputs": [],
   "source": [
    "# ratingsPerMovie(training)\n",
    "v = getV(ratingsForUser1)\n",
    "# v.shape\n",
    "w = getInitialWeights(v.shape[0],F,5)"
   ]
  },
  {
   "cell_type": "code",
   "execution_count": 4,
   "metadata": {
    "scrolled": true
   },
   "outputs": [],
   "source": [
    "trStats = lib.getUsefulStats(training)\n",
    "W = getInitialWeights(trStats[\"n_movies\"], F, K)"
   ]
  },
  {
   "cell_type": "code",
   "execution_count": 5,
   "metadata": {},
   "outputs": [],
   "source": [
    "def sig(x):\n",
    "    ### TO IMPLEMENT ###\n",
    "    # x is a real vector of size n\n",
    "    # ret should be a vector of size n where ret_i = sigmoid(x_i)\n",
    "    return 1/(1+np.exp(-x))\n",
    "\n",
    "def visibleToHiddenVec(v, w):\n",
    "    ### TO IMPLEMENT ###\n",
    "    # v is a matrix of size m x 5. Each row is a binary vector representing a rating\n",
    "    #    OR a probability distribution over the rating\n",
    "    # w is a list of matrices of size m x F x 5\n",
    "    # ret should be a vector of size F\n",
    "    m,f,K=w.shape\n",
    "    output=list()\n",
    "    for i in range(f):\n",
    "        summ=0\n",
    "        for k in range(K):\n",
    "            for j in range(m):\n",
    "                summ+=v[j,k]*w[j,i,k]\n",
    "        output.append(summ)\n",
    "    return sig(np.array(output))\n",
    "    \n",
    "\n",
    "def hiddenToVisible(h, w):\n",
    "    ### TO IMPLEMENT ###\n",
    "    # h is a binary vector of size F\n",
    "    # w is an array of size m x F x 5\n",
    "    # ret should be a matrix of size m x 5, where m\n",
    "    #   is the number of movies the user has seen.\n",
    "    #   Remember that we do not reconstruct movies that the user\n",
    "    #   has not rated! (where reconstructing means getting a distribution\n",
    "    #   over possible ratings).\n",
    "    #   We only do so when we predict the rating a user would have given to a movie.\n",
    "#     print(w.shape)\n",
    "    output=w[:,0,:]*h[0]\n",
    "    m,f,k=w.shape\n",
    "    for i in range(1,f):\n",
    "        output+=w[:,i,:]*h[i]\n",
    "    return sig(output)\n",
    "\n",
    "def probProduct(v, p):\n",
    "    # v is a matrix of size m x 5\n",
    "    # p is a vector of size F, activation of the hidden units\n",
    "    # returns the gradient for visible input v and hidden activations p\n",
    "    ret = np.zeros((v.shape[0], p.size, v.shape[1]))\n",
    "    for i in range(v.shape[0]):\n",
    "        for j in range(p.size):\n",
    "            for k in range(v.shape[1]):\n",
    "                ret[i, j, k] = v[i, k] * p[j]\n",
    "    return ret\n",
    "\n",
    "def sample(p):\n",
    "    # p is a vector of real numbers between 0 and 1\n",
    "    # ret is a vector of same size as p, where ret_i = Ber(p_i)\n",
    "    # In other word we sample from a Bernouilli distribution with\n",
    "    # parameter p_i to obtain ret_i\n",
    "    samples = np.random.random(p.size)\n",
    "    return np.array(samples <= p, dtype=int)\n",
    "\n",
    "def getPredictedDistribution(v, w, wq):\n",
    "    ### TO IMPLEMENT ###\n",
    "    # This function returns a distribution over the ratings for movie q, if user data is v\n",
    "    # v is the dataset of the user we are predicting the movie for\n",
    "    #   It is a m x 5 matrix, where m is the number of movies in the\n",
    "    #   dataset of this user.\n",
    "    # w is the weights array for the current user, of size m x F x 5\n",
    "    # wq is the weight matrix of size F x 5 for movie q\n",
    "    #   If W is the whole weights array, then wq = W[q, :, :]\n",
    "    # You will need to perform the same steps done in the learning/unlearning:\n",
    "    #   - Propagate the user input to the hidden units\n",
    "    #   - Sample the state of the hidden units\n",
    "    #   - Backpropagate these hidden states to obtain\n",
    "    #       the distribution over the movie whose associated weights are wq\n",
    "    # ret is a vector of size 5\n",
    "    m,f,K=w.shape\n",
    "    p_learn = visibleToHiddenVec(v,w)\n",
    "    PG = probProduct(v, p_learn)\n",
    "    hidden_activations = sample(p_learn)\n",
    "#     print(hidden_activations)\n",
    "    v_negative = hiddenToVisible(hidden_activations, wq.reshape(1,wq.shape[0],wq.shape[1]))\n",
    "#     p_unlearn = visibleToHiddenVec(v_negative, w)\n",
    "#     NG = probProduct(v_negative, p_unlearn)\n",
    "# #     print(eps*(PG-NG))\n",
    "# #     print (w.shape)\n",
    "#     w += eps*(PG-NG)\n",
    "    return v_negative.reshape(5)\n",
    "\n",
    "def predictRatingMax(ratingDistribution):\n",
    "    ### TO IMPLEMENT ###\n",
    "    # ratingDistribution is a probability distribution over possible ratings\n",
    "    #   It is obtained from the getPredictedDistribution function\n",
    "    # This function is one of three you are to implement\n",
    "    # that returns a rating from the distribution\n",
    "    # We decide here that the predicted rating will be the one with the highest probability\n",
    "    result = np.where(ratingDistribution == np.amax(ratingDistribution))[0].item()\n",
    "    return result+1\n",
    "\n",
    "def predictRatingMean(ratingDistribution):\n",
    "    ### TO IMPLEMENT ###\n",
    "    # ratingDistribution is a probability distribution over possible ratings\n",
    "    #   It is obtained from the getPredictedDistribution function\n",
    "    # This function is one of three you are to implement\n",
    "    # that returns a rating from the distribution\n",
    "    # We decide here that the predicted rating will be the expectation over ratingDistribution\n",
    "    normalized = ratingDistribution/sum(ratingDistribution)\n",
    "    result = 0 \n",
    "    for k in range(ratingDistribution.shape[0]):\n",
    "        result += normalized[k]*(k+1)\n",
    "    return result\n",
    "\n",
    "def predictRatingExp(ratingDistribution):\n",
    "    ### TO IMPLEMENT ###\n",
    "    # ratingDistribution is a probability distribution over possible ratings\n",
    "    #   It is obtained from the getPredictedDistribution function\n",
    "    # This function is one of three you are to implement\n",
    "    # that returns a rating from the distribution\n",
    "    # We decide here that the predicted rating will be the expectation over\n",
    "    # the softmax applied to ratingDistribution\n",
    "    softmax = np.exp(ratingDistribution)/sum(np.exp(ratingDistribution))\n",
    "#     print(softmax)\n",
    "    result = 0 \n",
    "    for k in range(len(ratingDistribution)):\n",
    "        result += softmax[k]*(k+1)\n",
    "#         print (result)\n",
    "    return result\n",
    "\n",
    "def predictMovieForUser(q, user, W, training, predictType=\"exp\"):\n",
    "    # movie is movie idx\n",
    "    # user is user ID\n",
    "    # type can be \"max\" or \"exp\"\n",
    "    ratingsForUser = lib.getRatingsForUser(user, training)\n",
    "    v = getV(ratingsForUser)\n",
    "#     print(np.where(ratingsForUser[:,0]==q))\n",
    "    ratingDistribution = getPredictedDistribution(v, W[ratingsForUser[:, 0], :, :], W[q, :, :])#[np.where(ratingsForUser[:,0]==q)[0][0]]\n",
    "    if predictType == \"max\":\n",
    "        return predictRatingMax(ratingDistribution)\n",
    "    elif predictType == \"mean\":\n",
    "        return predictRatingMean(ratingDistribution)\n",
    "    else:\n",
    "        return predictRatingExp(ratingDistribution)\n",
    "\n",
    "def predict(movies, users, W, training, predictType=\"exp\"):\n",
    "    # given a list of movies and users, predict the rating for each (movie, user) pair\n",
    "    # used to compute RMSE\n",
    "    return [predictMovieForUser(movie, user, W, training, predictType=predictType) for (movie, user) in zip(movies, users)]\n",
    "\n",
    "def predictForUser(user, W, training, predictType=\"exp\"):\n",
    "    ### TO IMPLEMENT\n",
    "    # given a user ID, predicts all movie ratings for the user\n",
    "    \n",
    "    return None\n"
   ]
  },
  {
   "cell_type": "code",
   "execution_count": 6,
   "metadata": {
    "scrolled": true
   },
   "outputs": [
    {
     "name": "stdout",
     "output_type": "stream",
     "text": [
      "[0.53789299 0.50003429 0.4991759  0.52044092 0.46758387]\n"
     ]
    },
    {
     "data": {
      "text/plain": [
       "2.9760441935358433"
      ]
     },
     "execution_count": 6,
     "metadata": {},
     "output_type": "execute_result"
    }
   ],
   "source": [
    "q = np.random.choice(ratingsForUser1[:, 0])\n",
    "index = np.where(ratingsForUser1[:, 0]==q)[0].item()\n",
    "ratingdist1 = getPredictedDistribution(v, W[ratingsForUser1[:, 0], :, :], W[q, :, :])#[index]\n",
    "print(ratingdist1)\n",
    "predictRatingExp(ratingdist1)\n",
    "# Problem remains - we need the index to know which movie to take the values from in the \n",
    "# getPredictedDistribution function. Need to check with TA and clarify that part."
   ]
  },
  {
   "cell_type": "code",
   "execution_count": 7,
   "metadata": {},
   "outputs": [],
   "source": [
    "def predictForUser(user, W, training, predictType=\"exp\"):\n",
    "    ### TO IMPLEMENT\n",
    "    # given a user ID, predicts all movie ratings for the user\n",
    "    ratingsForUser = lib.getRatingsForUser(user, training)\n",
    "    v = getV(ratingsForUser)\n",
    "    ratings = []\n",
    "    for i in range(np.shape(ratingsForUser)[0]):\n",
    "        ratingDistribution = getPredictedDistribution(v, W[ratingsForUser[:, 0], :, :], W[ratingsForUser[:,0][i], :, :])[i]\n",
    "#         print(ratingDistribution)\n",
    "#     return v\n",
    "#     ratingDistribution = getPredictedDistribution(v, W[ratingsForUser[:, 0], :, :], )\n",
    "        if predictType == \"max\":\n",
    "            ratings.append(predictRatingMax(ratingDistribution))\n",
    "        elif predictType == \"mean\":\n",
    "            ratings.append(predictRatingMean(ratingDistribution))\n",
    "        else:\n",
    "#             print (predictRatingExp(ratingDistribution))\n",
    "            ratings.append(predictRatingExp(ratingDistribution))\n",
    "    return ratings"
   ]
  },
  {
   "cell_type": "code",
   "execution_count": 8,
   "metadata": {
    "scrolled": true
   },
   "outputs": [
    {
     "name": "stdout",
     "output_type": "stream",
     "text": [
      "### EPOCH 1 ###\n",
      "Training loss = 1.204339\n",
      "Validation loss = 1.231738\n"
     ]
    },
    {
     "name": "stderr",
     "output_type": "stream",
     "text": [
      "c:\\users\\admin\\appdata\\local\\programs\\python\\python37-32\\lib\\site-packages\\ipykernel_launcher.py:5: RuntimeWarning: overflow encountered in exp\n",
      "  \"\"\"\n"
     ]
    },
    {
     "name": "stdout",
     "output_type": "stream",
     "text": [
      "### EPOCH 2 ###\n",
      "Training loss = 1.206444\n",
      "Validation loss = 1.232751\n",
      "### EPOCH 3 ###\n",
      "Training loss = 1.203095\n",
      "Validation loss = 1.232387\n",
      "### EPOCH 4 ###\n",
      "Training loss = 1.199033\n",
      "Validation loss = 1.227264\n",
      "### EPOCH 5 ###\n",
      "Training loss = 1.199208\n",
      "Validation loss = 1.231922\n",
      "### EPOCH 6 ###\n",
      "Training loss = 1.196648\n",
      "Validation loss = 1.229262\n",
      "### EPOCH 7 ###\n",
      "Training loss = 1.194634\n",
      "Validation loss = 1.226205\n",
      "### EPOCH 8 ###\n",
      "Training loss = 1.192931\n",
      "Validation loss = 1.225522\n",
      "### EPOCH 9 ###\n",
      "Training loss = 1.194368\n",
      "Validation loss = 1.236953\n",
      "### EPOCH 10 ###\n",
      "Training loss = 1.196974\n",
      "Validation loss = 1.237841\n",
      "### EPOCH 11 ###\n",
      "Training loss = 1.200055\n",
      "Validation loss = 1.231586\n",
      "### EPOCH 12 ###\n",
      "Training loss = 1.191964\n",
      "Validation loss = 1.219335\n",
      "### EPOCH 13 ###\n",
      "Training loss = 1.190648\n",
      "Validation loss = 1.219560\n",
      "### EPOCH 14 ###\n",
      "Training loss = 1.194091\n",
      "Validation loss = 1.233748\n",
      "### EPOCH 15 ###\n",
      "Training loss = 1.195175\n",
      "Validation loss = 1.230516\n",
      "### EPOCH 16 ###\n",
      "Training loss = 1.194263\n",
      "Validation loss = 1.229555\n",
      "### EPOCH 17 ###\n",
      "Training loss = 1.187798\n",
      "Validation loss = 1.216500\n",
      "### EPOCH 18 ###\n",
      "Training loss = 1.194951\n",
      "Validation loss = 1.221386\n",
      "### EPOCH 19 ###\n",
      "Training loss = 1.192425\n",
      "Validation loss = 1.227638\n",
      "### EPOCH 20 ###\n",
      "Training loss = 1.191780\n",
      "Validation loss = 1.227893\n",
      "### EPOCH 21 ###\n",
      "Training loss = 1.193859\n",
      "Validation loss = 1.229310\n",
      "### EPOCH 22 ###\n",
      "Training loss = 1.192869\n",
      "Validation loss = 1.234989\n",
      "### EPOCH 23 ###\n",
      "Training loss = 1.185298\n",
      "Validation loss = 1.215051\n",
      "### EPOCH 24 ###\n",
      "Training loss = 1.190506\n",
      "Validation loss = 1.218321\n",
      "### EPOCH 25 ###\n",
      "Training loss = 1.200505\n",
      "Validation loss = 1.227662\n",
      "### EPOCH 26 ###\n",
      "Training loss = 1.192709\n",
      "Validation loss = 1.218205\n",
      "### EPOCH 27 ###\n",
      "Training loss = 1.193659\n",
      "Validation loss = 1.223129\n",
      "### EPOCH 28 ###\n",
      "Training loss = 1.193754\n",
      "Validation loss = 1.226912\n",
      "### EPOCH 29 ###\n",
      "Training loss = 1.194973\n",
      "Validation loss = 1.233072\n"
     ]
    },
    {
     "data": {
      "text/plain": [
       "[<matplotlib.lines.Line2D at 0xad9aaf0>]"
      ]
     },
     "execution_count": 8,
     "metadata": {},
     "output_type": "execute_result"
    },
    {
     "data": {
      "text/plain": [
       "[<matplotlib.lines.Line2D at 0xad9aeb0>]"
      ]
     },
     "execution_count": 8,
     "metadata": {},
     "output_type": "execute_result"
    },
    {
     "data": {
      "image/png": "[encoded data removed]",
      "text/plain": [
       "<Figure size 432x288 with 1 Axes>"
      ]
     },
     "metadata": {
      "needs_background": "light"
     },
     "output_type": "display_data"
    }
   ],
   "source": [
    "import numpy as np\n",
    "import rbm\n",
    "import projectLib as lib\n",
    "\n",
    "training = lib.getTrainingData()\n",
    "validation = lib.getValidationData()\n",
    "# You could also try with the chapter 4 data\n",
    "# training = lib.getChapter4Data()\n",
    "\n",
    "trStats = lib.getUsefulStats(training)\n",
    "vlStats = lib.getUsefulStats(validation)\n",
    "\n",
    "K = 5\n",
    "alpha = 0.9\n",
    "\n",
    "# SET PARAMETERS HERE!!!\n",
    "# number of hidden units\n",
    "F = 10\n",
    "epochs = 30\n",
    "gradientLearningRate = 0.005\n",
    "\n",
    "# Initialise all our arrays\n",
    "W = getInitialWeights(trStats[\"n_movies\"], F, K)\n",
    "posprods = np.zeros(W.shape)\n",
    "negprods = np.zeros(W.shape)\n",
    "m=np.zeros((97,F,5))\n",
    "train_loss = []\n",
    "validation_loss = []\n",
    "\n",
    "for epoch in range(1, epochs):\n",
    "    # in each epoch, we'll visit all users in a random order\n",
    "    visitingOrder = np.array(trStats[\"u_users\"])\n",
    "    np.random.shuffle(visitingOrder)\n",
    "\n",
    "    for user in visitingOrder:\n",
    "        # get the ratings of that user\n",
    "        ratingsForUser = lib.getRatingsForUser(user, training)\n",
    "\n",
    "        # build the visible input\n",
    "        v = getV(ratingsForUser)\n",
    "\n",
    "        # get the weights associated to movies the user has seen\n",
    "        weightsForUser = W[ratingsForUser[:, 0], :, :]\n",
    "\n",
    "        ### LEARNING ###\n",
    "        # propagate visible input to hidden units\n",
    "        posHiddenProb = visibleToHiddenVec(v, weightsForUser)\n",
    "        # get positive gradient\n",
    "        # note that we only update the movies that this user has seen!\n",
    "        posprods[ratingsForUser[:, 0], :, :] += probProduct(v, posHiddenProb)\n",
    "\n",
    "        ### UNLEARNING ###\n",
    "        # sample from hidden distribution\n",
    "        sampledHidden = sample(posHiddenProb)\n",
    "        # propagate back to get \"negative data\"\n",
    "        negData = hiddenToVisible(sampledHidden, weightsForUser)\n",
    "        # propagate negative data to hidden units\n",
    "        negHiddenProb = visibleToHiddenVec(negData, weightsForUser)\n",
    "        # get negative gradient\n",
    "        # note that we only update the movies that this user has seen!\n",
    "        negprods[ratingsForUser[:, 0], :, :] += probProduct(negData, negHiddenProb)\n",
    "\n",
    "        # we average over the number of users in the batch (if we use mini-batch)\n",
    "        grad = gradientLearningRate * (posprods - negprods)\n",
    "        \n",
    "        m = alpha*m+grad\n",
    "\n",
    "        W += m\n",
    "\n",
    "    # Print the current RMSE for training and validation sets\n",
    "    # this allows you to control for overfitting e.g\n",
    "    # We predict over the training set\n",
    "    tr_r_hat = predict(trStats[\"movies\"], trStats[\"users\"], W, training)\n",
    "#     print (tr_r_hat)\n",
    "    trRMSE = lib.rmse(trStats[\"ratings\"], tr_r_hat)\n",
    "#     print (trRMSE)\n",
    "\n",
    "    # We predict over the validation set\n",
    "    vl_r_hat = predict(vlStats[\"movies\"], vlStats[\"users\"], W, training)\n",
    "#     vl_r_hat\n",
    "    vlRMSE = lib.rmse(vlStats[\"ratings\"], vl_r_hat)\n",
    "    \n",
    "    train_loss.append(trRMSE)\n",
    "    validation_loss.append(vlRMSE)\n",
    "\n",
    "    print (\"### EPOCH %d ###\" % epoch)\n",
    "    print (\"Training loss = %f\" % trRMSE)\n",
    "    print (\"Validation loss = %f\" % vlRMSE)\n",
    "\n",
    "### END ###\n",
    "# This part you can write on your own\n",
    "# you could plot the evolution of the training and validation RMSEs for example\n",
    "# predictedRatings = np.array([predictForUser(user, W, training) for user in trStats[\"u_users\"]])\n",
    "# np.savetxt(\"predictedRatings.txt\", predictedRatings)\n",
    "# fig1 = plt.figure()\n",
    "# ax1 = fig1.add_subplot(121)\n",
    "# ax1.plot(train_loss)\n",
    "# ax2 = fig1.add_subplot(122)\n",
    "# ax2.plot(validation_loss)\n",
    "\n",
    "plt.plot(train_loss)\n",
    "plt.plot(validation_loss)\n",
    "plt.show()"
   ]
  },
  {
   "cell_type": "code",
   "execution_count": null,
   "metadata": {},
   "outputs": [],
   "source": [
    "np.shape(posprods)"
   ]
  },
  {
   "cell_type": "code",
   "execution_count": null,
   "metadata": {},
   "outputs": [],
   "source": [
    "vlStats[\"users\"]"
   ]
  },
  {
   "cell_type": "code",
   "execution_count": 14,
   "metadata": {},
   "outputs": [
    {
     "data": {
      "text/plain": [
       "3.611012456612011"
      ]
     },
     "execution_count": 14,
     "metadata": {},
     "output_type": "execute_result"
    }
   ],
   "source": [
    "max(vl_r_hat)"
   ]
  },
  {
   "cell_type": "code",
   "execution_count": 9,
   "metadata": {},
   "outputs": [
    {
     "data": {
      "text/plain": [
       "[<matplotlib.lines.Line2D at 0x1161190>]"
      ]
     },
     "execution_count": 9,
     "metadata": {},
     "output_type": "execute_result"
    },
    {
     "data": {
      "text/plain": [
       "[<matplotlib.lines.Line2D at 0x1161430>]"
      ]
     },
     "execution_count": 9,
     "metadata": {},
     "output_type": "execute_result"
    },
    {
     "data": {
      "image/png": "[encoded data removed]",
      "text/plain": [
       "<Figure size 432x288 with 1 Axes>"
      ]
     },
     "metadata": {
      "needs_background": "light"
     },
     "output_type": "display_data"
    }
   ],
   "source": [
    "plt.plot(train_loss)\n",
    "plt.plot(validation_loss)\n",
    "plt.show()"
   ]
  },
  {
   "cell_type": "code",
   "execution_count": null,
   "metadata": {},
   "outputs": [],
   "source": []
  }
 ],
 "metadata": {
  "kernelspec": {
   "display_name": "Python 3",
   "language": "python",
   "name": "python3"
  },
  "language_info": {
   "codemirror_mode": {
    "name": "ipython",
    "version": 3
   },
   "file_extension": ".py",
   "mimetype": "text/x-python",
   "name": "python",
   "nbconvert_exporter": "python",
   "pygments_lexer": "ipython3",
   "version": "3.7.2"
  }
 },
 "nbformat": 4,
 "nbformat_minor": 2
}
