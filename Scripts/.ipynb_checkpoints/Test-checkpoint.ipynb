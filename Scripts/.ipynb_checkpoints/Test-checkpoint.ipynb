{
 "cells": [
  {
   "cell_type": "code",
   "execution_count": 1,
   "metadata": {},
   "outputs": [],
   "source": [
    "import rbm\n",
    "import rbm_sy\n",
    "import numpy as np\n",
    "import projectLib as lib\n",
    "import matplotlib.pyplot as plt\n",
    "import inspect"
   ]
  },
  {
   "cell_type": "code",
   "execution_count": 2,
   "metadata": {},
   "outputs": [],
   "source": [
    "F=5\n",
    "K=5"
   ]
  },
  {
   "cell_type": "code",
   "execution_count": 3,
   "metadata": {},
   "outputs": [],
   "source": [
    "training = lib.getTrainingData()\n",
    "ratingsForUser1 = lib.getRatingsForUser(1, training)"
   ]
  },
  {
   "cell_type": "code",
   "execution_count": 4,
   "metadata": {},
   "outputs": [],
   "source": [
    "# ratingsPerMovie(training)\n",
    "v = rbm.getV(ratingsForUser1)\n",
    "# v.shape\n",
    "w = rbm.getInitialWeights(v.shape[0],F,5)"
   ]
  },
  {
   "cell_type": "code",
   "execution_count": 5,
   "metadata": {},
   "outputs": [],
   "source": [
    "trStats = lib.getUsefulStats(training)\n",
    "W = rbm.getInitialWeights(trStats[\"n_movies\"], F, K)"
   ]
  },
  {
   "cell_type": "code",
   "execution_count": 6,
   "metadata": {},
   "outputs": [],
   "source": [
    "num_movies=trStats[\"n_movies\"]\n",
    "vis_bias=np.zeros((num_movies,5))\n",
    "hid_bias=np.zeros((F,))"
   ]
  },
  {
   "cell_type": "code",
   "execution_count": 7,
   "metadata": {},
   "outputs": [],
   "source": [
    "h = [0,1,0,1,0]"
   ]
  },
  {
   "cell_type": "code",
   "execution_count": 8,
   "metadata": {},
   "outputs": [
    {
     "data": {
      "text/plain": [
       "array([[0.16437925, 0.17803374, 0.22953033, 0.17622554, 0.25183114],\n",
       "       [0.19279955, 0.18326502, 0.21703691, 0.23967913, 0.16721939],\n",
       "       [0.22071227, 0.17724028, 0.18073978, 0.17708796, 0.24421971],\n",
       "       [0.22043061, 0.19885265, 0.14141267, 0.22007137, 0.2192327 ],\n",
       "       [0.23544336, 0.18986391, 0.18322699, 0.20464002, 0.18682572],\n",
       "       [0.18739654, 0.24596974, 0.21513575, 0.17209598, 0.17940198],\n",
       "       [0.22942796, 0.20534646, 0.2028281 , 0.18791995, 0.17447752],\n",
       "       [0.18034893, 0.19204282, 0.22027372, 0.24782909, 0.15950545]])"
      ]
     },
     "execution_count": 8,
     "metadata": {},
     "output_type": "execute_result"
    },
    {
     "data": {
      "text/plain": [
       "array([[0.16437925, 0.17803374, 0.22953033, 0.17622554, 0.25183114],\n",
       "       [0.19279955, 0.18326502, 0.21703691, 0.23967913, 0.16721939],\n",
       "       [0.22071227, 0.17724028, 0.18073978, 0.17708796, 0.24421971],\n",
       "       [0.22043061, 0.19885265, 0.14141267, 0.22007137, 0.2192327 ],\n",
       "       [0.23544336, 0.18986391, 0.18322699, 0.20464002, 0.18682572],\n",
       "       [0.18739654, 0.24596974, 0.21513575, 0.17209598, 0.17940198],\n",
       "       [0.22942796, 0.20534646, 0.2028281 , 0.18791995, 0.17447752],\n",
       "       [0.18034893, 0.19204282, 0.22027372, 0.24782909, 0.15950545]])"
      ]
     },
     "execution_count": 8,
     "metadata": {},
     "output_type": "execute_result"
    }
   ],
   "source": [
    "rbm.hiddenToVisible(h, W[ratingsForUser1[:, 0], :, :])\n",
    "h = [0,1,0,1,0]\n",
    "rbm_sy.hiddenToVisible(h, W[ratingsForUser1[:, 0], :, :])"
   ]
  },
  {
   "cell_type": "code",
   "execution_count": 11,
   "metadata": {},
   "outputs": [
    {
     "data": {
      "text/plain": [
       "array([0.20073695, 0.19108352, 0.19967294, 0.21294541, 0.19556118])"
      ]
     },
     "execution_count": 11,
     "metadata": {},
     "output_type": "execute_result"
    },
    {
     "data": {
      "text/plain": [
       "array([0.1576574 , 0.18611418, 0.20203868, 0.23611   , 0.21807975])"
      ]
     },
     "execution_count": 11,
     "metadata": {},
     "output_type": "execute_result"
    }
   ],
   "source": [
    "rbm.getPredictedDistribution(v, W[ratingsForUser1[:, 0], :, :], W[1, :, :], vis_bias, hid_bias)\n",
    "rbm_sy.getPredictedDistribution(v, W[ratingsForUser1[:, 0], :, :], W[1, :, :])"
   ]
  },
  {
   "cell_type": "code",
   "execution_count": null,
   "metadata": {},
   "outputs": [],
   "source": []
  }
 ],
 "metadata": {
  "kernelspec": {
   "display_name": "Python 3",
   "language": "python",
   "name": "python3"
  },
  "language_info": {
   "codemirror_mode": {
    "name": "ipython",
    "version": 3
   },
   "file_extension": ".py",
   "mimetype": "text/x-python",
   "name": "python",
   "nbconvert_exporter": "python",
   "pygments_lexer": "ipython3",
   "version": "3.7.2"
  }
 },
 "nbformat": 4,
 "nbformat_minor": 2
}
